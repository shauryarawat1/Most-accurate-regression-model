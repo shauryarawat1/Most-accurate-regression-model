{
  "nbformat": 4,
  "nbformat_minor": 0,
  "metadata": {
    "colab": {
      "name": "github_decision_tree_regression.ipynb",
      "provenance": [],
      "collapsed_sections": []
    },
    "kernelspec": {
      "name": "python3",
      "display_name": "Python 3"
    }
  },
  "cells": [
    {
      "cell_type": "code",
      "metadata": {
        "id": "Goz3skrodOVd"
      },
      "source": [
        "# import libraries\r\n",
        "import pandas as pd\r\n",
        "import numpy as np\r\n",
        "import matplotlib.pyplot as plt"
      ],
      "execution_count": 2,
      "outputs": []
    },
    {
      "cell_type": "code",
      "metadata": {
        "id": "6CUrJ_J-dkIv"
      },
      "source": [
        "# import and read the dataset\r\n",
        "dataset = pd.read_csv(\"Data.csv\")\r\n",
        "\r\n",
        "# store the values of dependent and independent variables separately\r\n",
        "X = dataset.iloc[:, :-1].values\r\n",
        "y = dataset.iloc[:, -1].values"
      ],
      "execution_count": 3,
      "outputs": []
    },
    {
      "cell_type": "code",
      "metadata": {
        "colab": {
          "base_uri": "https://localhost:8080/"
        },
        "id": "KEY6ON06eKIt",
        "outputId": "aa2d0271-3b8b-4389-e148-a8940b9501b7"
      },
      "source": [
        "print(X)"
      ],
      "execution_count": 4,
      "outputs": [
        {
          "output_type": "stream",
          "text": [
            "[[  14.96   41.76 1024.07   73.17]\n",
            " [  25.18   62.96 1020.04   59.08]\n",
            " [   5.11   39.4  1012.16   92.14]\n",
            " ...\n",
            " [  31.32   74.33 1012.92   36.48]\n",
            " [  24.48   69.45 1013.86   62.39]\n",
            " [  21.6    62.52 1017.23   67.87]]\n"
          ],
          "name": "stdout"
        }
      ]
    },
    {
      "cell_type": "code",
      "metadata": {
        "colab": {
          "base_uri": "https://localhost:8080/"
        },
        "id": "YGxrKafGeLax",
        "outputId": "a36306ed-5d13-43b5-b18e-5783665b4c56"
      },
      "source": [
        "print(y)"
      ],
      "execution_count": 5,
      "outputs": [
        {
          "output_type": "stream",
          "text": [
            "[463.26 444.37 488.56 ... 429.57 435.74 453.28]\n"
          ],
          "name": "stdout"
        }
      ]
    },
    {
      "cell_type": "code",
      "metadata": {
        "id": "YpPMrpKReNte"
      },
      "source": [
        "# splitting the dataset into training and testing sets\r\n",
        "from sklearn.model_selection import train_test_split\r\n",
        "\r\n",
        "X_train, X_test, y_train, y_test = train_test_split(X, y, test_size=0.2, random_state=0)"
      ],
      "execution_count": 6,
      "outputs": []
    },
    {
      "cell_type": "code",
      "metadata": {
        "colab": {
          "base_uri": "https://localhost:8080/"
        },
        "id": "FgA3IB_ZfR-K",
        "outputId": "d38cf169-be22-4308-a0bf-6f30a9e13a61"
      },
      "source": [
        "print(X_train)"
      ],
      "execution_count": 7,
      "outputs": [
        {
          "output_type": "stream",
          "text": [
            "[[  11.22   43.13 1017.24   80.9 ]\n",
            " [  13.67   54.3  1015.92   75.42]\n",
            " [  32.84   77.95 1014.68   45.8 ]\n",
            " ...\n",
            " [  16.81   38.52 1018.26   75.21]\n",
            " [  12.8    41.16 1022.43   86.19]\n",
            " [  32.32   67.9  1006.08   37.93]]\n"
          ],
          "name": "stdout"
        }
      ]
    },
    {
      "cell_type": "code",
      "metadata": {
        "colab": {
          "base_uri": "https://localhost:8080/"
        },
        "id": "cPgH6C0mfUTz",
        "outputId": "1dcdd1b2-1854-4391-b508-ef1b394ec9aa"
      },
      "source": [
        "print(X_test)"
      ],
      "execution_count": 8,
      "outputs": [
        {
          "output_type": "stream",
          "text": [
            "[[  28.66   77.95 1009.56   69.07]\n",
            " [  17.48   49.39 1021.51   84.53]\n",
            " [  14.86   43.14 1019.21   99.14]\n",
            " ...\n",
            " [  12.24   44.92 1023.74   88.21]\n",
            " [  27.28   47.93 1003.46   59.22]\n",
            " [  17.28   39.99 1007.09   74.25]]\n"
          ],
          "name": "stdout"
        }
      ]
    },
    {
      "cell_type": "code",
      "metadata": {
        "colab": {
          "base_uri": "https://localhost:8080/"
        },
        "id": "1g14OCQ7fW3b",
        "outputId": "0d73fba8-60b7-4a58-b2c2-94ef48a3d381"
      },
      "source": [
        "print(y_train)"
      ],
      "execution_count": 9,
      "outputs": [
        {
          "output_type": "stream",
          "text": [
            "[473.93 467.87 431.97 ... 459.01 462.72 428.12]\n"
          ],
          "name": "stdout"
        }
      ]
    },
    {
      "cell_type": "code",
      "metadata": {
        "colab": {
          "base_uri": "https://localhost:8080/"
        },
        "id": "cForpe9bfZII",
        "outputId": "6703dfc5-4063-41de-d221-e9caa564761b"
      },
      "source": [
        "print(y_test)"
      ],
      "execution_count": 10,
      "outputs": [
        {
          "output_type": "stream",
          "text": [
            "[431.23 460.01 461.14 ... 473.26 438.   463.28]\n"
          ],
          "name": "stdout"
        }
      ]
    },
    {
      "cell_type": "code",
      "metadata": {
        "colab": {
          "base_uri": "https://localhost:8080/"
        },
        "id": "CYvkHI9Ifcgr",
        "outputId": "38569388-faaf-4061-9363-87e019a98b32"
      },
      "source": [
        "# Applying the decision tree model to the training set and training the model too\r\n",
        "from sklearn.tree import DecisionTreeRegressor\r\n",
        "\r\n",
        "# create the object\r\n",
        "regressor = DecisionTreeRegressor(random_state=0)\r\n",
        "\r\n",
        "# fit the model to the data\r\n",
        "regressor.fit(X_train, y_train)"
      ],
      "execution_count": 11,
      "outputs": [
        {
          "output_type": "execute_result",
          "data": {
            "text/plain": [
              "DecisionTreeRegressor(ccp_alpha=0.0, criterion='mse', max_depth=None,\n",
              "                      max_features=None, max_leaf_nodes=None,\n",
              "                      min_impurity_decrease=0.0, min_impurity_split=None,\n",
              "                      min_samples_leaf=1, min_samples_split=2,\n",
              "                      min_weight_fraction_leaf=0.0, presort='deprecated',\n",
              "                      random_state=0, splitter='best')"
            ]
          },
          "metadata": {
            "tags": []
          },
          "execution_count": 11
        }
      ]
    },
    {
      "cell_type": "code",
      "metadata": {
        "colab": {
          "base_uri": "https://localhost:8080/"
        },
        "id": "hZRgRV_Th1wE",
        "outputId": "346cebee-555d-4a7c-955f-f1bffb436216"
      },
      "source": [
        "# predicting the test set results and printing them alongside the actual test set values\r\n",
        "y_pred = regressor.predict(X_test)\r\n",
        "np.set_printoptions(precision=2)\r\n",
        "print(np.concatenate((y_pred.reshape(len(y_pred),1), y_test.reshape(len(y_test),1)),1))"
      ],
      "execution_count": 12,
      "outputs": [
        {
          "output_type": "stream",
          "text": [
            "[[431.28 431.23]\n",
            " [462.81 460.01]\n",
            " [460.06 461.14]\n",
            " ...\n",
            " [471.46 473.26]\n",
            " [437.76 438.  ]\n",
            " [462.55 463.28]]\n"
          ],
          "name": "stdout"
        }
      ]
    },
    {
      "cell_type": "code",
      "metadata": {
        "colab": {
          "base_uri": "https://localhost:8080/"
        },
        "id": "SAaIcZBFh_L1",
        "outputId": "6549879b-673f-4869-ce6f-567b82f127a1"
      },
      "source": [
        "# calculating the R^2 score for this model\r\n",
        "from sklearn.metrics import r2_score\r\n",
        "r2_score(y_test, y_pred)"
      ],
      "execution_count": 13,
      "outputs": [
        {
          "output_type": "execute_result",
          "data": {
            "text/plain": [
              "0.9226091050550043"
            ]
          },
          "metadata": {
            "tags": []
          },
          "execution_count": 13
        }
      ]
    }
  ]
}