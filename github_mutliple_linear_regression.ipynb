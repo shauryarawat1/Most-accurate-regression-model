{
  "nbformat": 4,
  "nbformat_minor": 0,
  "metadata": {
    "colab": {
      "name": "github_mutliple_linear_regression.ipynb",
      "provenance": [],
      "collapsed_sections": []
    },
    "kernelspec": {
      "name": "python3",
      "display_name": "Python 3"
    }
  },
  "cells": [
    {
      "cell_type": "code",
      "metadata": {
        "id": "stRxkIRC0dOH"
      },
      "source": [
        "# import libraries\r\n",
        "import pandas as pd\r\n",
        "import numpy as np\r\n",
        "import matplotlib.pyplot as plt"
      ],
      "execution_count": 1,
      "outputs": []
    },
    {
      "cell_type": "code",
      "metadata": {
        "id": "JaheHEz50jQn"
      },
      "source": [
        "# read the csv file\r\n",
        "dataset = pd.read_csv(\"Data.csv\")\r\n",
        "\r\n",
        "#split into two datasets\r\n",
        "X = dataset.iloc[:, :-1].values\r\n",
        "y = dataset.iloc[:, -1].values"
      ],
      "execution_count": 2,
      "outputs": []
    },
    {
      "cell_type": "code",
      "metadata": {
        "colab": {
          "base_uri": "https://localhost:8080/"
        },
        "id": "VkvydQA-03tu",
        "outputId": "a1b30abf-b13b-4668-afd9-8cf4cb964af6"
      },
      "source": [
        "print(X)"
      ],
      "execution_count": 3,
      "outputs": [
        {
          "output_type": "stream",
          "text": [
            "[[  14.96   41.76 1024.07   73.17]\n",
            " [  25.18   62.96 1020.04   59.08]\n",
            " [   5.11   39.4  1012.16   92.14]\n",
            " ...\n",
            " [  31.32   74.33 1012.92   36.48]\n",
            " [  24.48   69.45 1013.86   62.39]\n",
            " [  21.6    62.52 1017.23   67.87]]\n"
          ],
          "name": "stdout"
        }
      ]
    },
    {
      "cell_type": "code",
      "metadata": {
        "colab": {
          "base_uri": "https://localhost:8080/"
        },
        "id": "JKdyBrysTdK7",
        "outputId": "827fee74-9e0d-4eb5-f93d-10e370c78a9f"
      },
      "source": [
        "print(y)"
      ],
      "execution_count": 4,
      "outputs": [
        {
          "output_type": "stream",
          "text": [
            "[463.26 444.37 488.56 ... 429.57 435.74 453.28]\n"
          ],
          "name": "stdout"
        }
      ]
    },
    {
      "cell_type": "code",
      "metadata": {
        "id": "Jfsl5ECV1Yii"
      },
      "source": [
        "# Split into train and test datasets\r\n",
        "from sklearn.model_selection import train_test_split\r\n",
        "\r\n",
        "X_train, X_test, y_train, y_test = train_test_split(X, y, train_size=0.2, random_state=0)"
      ],
      "execution_count": 5,
      "outputs": []
    },
    {
      "cell_type": "code",
      "metadata": {
        "colab": {
          "base_uri": "https://localhost:8080/"
        },
        "id": "5I0w1jvHSVj5",
        "outputId": "ddb47162-a4ec-42e0-aa47-2ba8bdba4748"
      },
      "source": [
        "print(X_train)"
      ],
      "execution_count": 6,
      "outputs": [
        {
          "output_type": "stream",
          "text": [
            "[[  22.74   58.41 1013.92   84.03]\n",
            " [  22.24   41.1  1001.96   42.6 ]\n",
            " [  16.73   39.64 1008.94   74.91]\n",
            " ...\n",
            " [  16.81   38.52 1018.26   75.21]\n",
            " [  12.8    41.16 1022.43   86.19]\n",
            " [  32.32   67.9  1006.08   37.93]]\n"
          ],
          "name": "stdout"
        }
      ]
    },
    {
      "cell_type": "code",
      "metadata": {
        "colab": {
          "base_uri": "https://localhost:8080/"
        },
        "id": "QeuXS9awSayb",
        "outputId": "e552a2dc-42d3-4f62-e2fe-eb66587e4ef7"
      },
      "source": [
        "print(X_test)"
      ],
      "execution_count": 7,
      "outputs": [
        {
          "output_type": "stream",
          "text": [
            "[[  28.66   77.95 1009.56   69.07]\n",
            " [  17.48   49.39 1021.51   84.53]\n",
            " [  14.86   43.14 1019.21   99.14]\n",
            " ...\n",
            " [  25.15   68.51 1013.25   72.31]\n",
            " [  20.47   58.16 1016.97   68.6 ]\n",
            " [  29.22   73.18 1012.22   64.91]]\n"
          ],
          "name": "stdout"
        }
      ]
    },
    {
      "cell_type": "code",
      "metadata": {
        "colab": {
          "base_uri": "https://localhost:8080/"
        },
        "id": "T9IrFkYYSdrf",
        "outputId": "07ef5d62-716d-43d3-a332-655d8b776ce0"
      },
      "source": [
        "print(y_train)"
      ],
      "execution_count": 8,
      "outputs": [
        {
          "output_type": "stream",
          "text": [
            "[447.85 451.95 464.46 ... 459.01 462.72 428.12]\n"
          ],
          "name": "stdout"
        }
      ]
    },
    {
      "cell_type": "code",
      "metadata": {
        "colab": {
          "base_uri": "https://localhost:8080/"
        },
        "id": "dmgwFegPSgUh",
        "outputId": "618f45a5-2ba5-4068-82a2-dbc961ae8bba"
      },
      "source": [
        "print(y_test)"
      ],
      "execution_count": 9,
      "outputs": [
        {
          "output_type": "stream",
          "text": [
            "[431.23 460.01 461.14 ... 440.96 453.99 430.57]\n"
          ],
          "name": "stdout"
        }
      ]
    },
    {
      "cell_type": "code",
      "metadata": {
        "colab": {
          "base_uri": "https://localhost:8080/"
        },
        "id": "_atfEnku1n_j",
        "outputId": "11e2e550-0e8c-4a0d-9af7-e884764e2b61"
      },
      "source": [
        "# Deterimine the model\r\n",
        "from sklearn.linear_model import LinearRegression\r\n",
        "\r\n",
        "# create the object\r\n",
        "regressor = LinearRegression()\r\n",
        "\r\n",
        "# fit operation\r\n",
        "regressor.fit(X_train, y_train)"
      ],
      "execution_count": 10,
      "outputs": [
        {
          "output_type": "execute_result",
          "data": {
            "text/plain": [
              "LinearRegression(copy_X=True, fit_intercept=True, n_jobs=None, normalize=False)"
            ]
          },
          "metadata": {
            "tags": []
          },
          "execution_count": 10
        }
      ]
    },
    {
      "cell_type": "code",
      "metadata": {
        "colab": {
          "base_uri": "https://localhost:8080/"
        },
        "id": "3uduDgTb12ls",
        "outputId": "0bad8274-01be-48d8-bd9d-895bb25b92d6"
      },
      "source": [
        "# store the predicted values in a variable\r\n",
        "y_pred = regressor.predict(X_test)\r\n",
        "\r\n",
        "# Print values only upto 2 decimal places\r\n",
        "np.set_printoptions(precision=2)\r\n",
        "\r\n",
        "# The predictions of the train and test datasets should be printed together\r\n",
        "print(np.concatenate((y_pred.reshape(len(y_pred),1), y_test.reshape(len(y_test),1)),1))"
      ],
      "execution_count": 11,
      "outputs": [
        {
          "output_type": "stream",
          "text": [
            "[[431.61 431.23]\n",
            " [458.92 460.01]\n",
            " [463.08 461.14]\n",
            " ...\n",
            " [440.54 440.96]\n",
            " [452.98 453.99]\n",
            " [432.58 430.57]]\n"
          ],
          "name": "stdout"
        }
      ]
    },
    {
      "cell_type": "code",
      "metadata": {
        "colab": {
          "base_uri": "https://localhost:8080/"
        },
        "id": "D_hQB_ph28ST",
        "outputId": "72c854fa-20a9-4367-edd0-5b6466120b32"
      },
      "source": [
        "# Find coefficients and intercept\r\n",
        "print(regressor.coef_)\r\n",
        "print(regressor.intercept_)"
      ],
      "execution_count": 12,
      "outputs": [
        {
          "output_type": "stream",
          "text": [
            "[-1.92 -0.25  0.1  -0.15]\n",
            "419.5271894506773\n"
          ],
          "name": "stdout"
        }
      ]
    },
    {
      "cell_type": "code",
      "metadata": {
        "id": "3eCTHN98N83n"
      },
      "source": [
        "# The equation can be written as\r\n",
        "PE = 419.53 + (-1.92)*AT + (-0.25)*V + (0.1)*AP + (-0.15)*RH"
      ],
      "execution_count": null,
      "outputs": []
    },
    {
      "cell_type": "code",
      "metadata": {
        "colab": {
          "base_uri": "https://localhost:8080/"
        },
        "id": "cxLdvOpjTpCn",
        "outputId": "f297e2c6-29e7-4249-bcf5-c169771ec621"
      },
      "source": [
        "# Evaluating the accuracy using R^2 score\r\n",
        "from sklearn.metrics import r2_score\r\n",
        "r2_score(y_test, y_pred)"
      ],
      "execution_count": 14,
      "outputs": [
        {
          "output_type": "execute_result",
          "data": {
            "text/plain": [
              "0.9289583408624013"
            ]
          },
          "metadata": {
            "tags": []
          },
          "execution_count": 14
        }
      ]
    }
  ]
}