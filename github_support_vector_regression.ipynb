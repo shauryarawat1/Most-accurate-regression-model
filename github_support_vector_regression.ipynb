{
  "nbformat": 4,
  "nbformat_minor": 0,
  "metadata": {
    "colab": {
      "name": "github_support_vector_regression.ipynb",
      "provenance": [],
      "collapsed_sections": []
    },
    "kernelspec": {
      "name": "python3",
      "display_name": "Python 3"
    }
  },
  "cells": [
    {
      "cell_type": "code",
      "metadata": {
        "id": "M0JwNsUcW4qS"
      },
      "source": [
        "# import the libraries\r\n",
        "import pandas as pd\r\n",
        "import numpy as np\r\n",
        "import matplotlib.pyplot as plt"
      ],
      "execution_count": 19,
      "outputs": []
    },
    {
      "cell_type": "code",
      "metadata": {
        "id": "6ofx70v1XROb"
      },
      "source": [
        "# import and read the dataset\r\n",
        "dataset = pd.read_csv(\"Data.csv\")\r\n",
        "\r\n",
        "# store the values of dependent and independent variables separately\r\n",
        "X = dataset.iloc[:, :-1].values\r\n",
        "y = dataset.iloc[:, -1].values"
      ],
      "execution_count": 20,
      "outputs": []
    },
    {
      "cell_type": "code",
      "metadata": {
        "colab": {
          "base_uri": "https://localhost:8080/"
        },
        "id": "o_lMIdKiXl64",
        "outputId": "1f267bc0-35da-400b-f1e7-3ebc383913b4"
      },
      "source": [
        "print(X)"
      ],
      "execution_count": 21,
      "outputs": [
        {
          "output_type": "stream",
          "text": [
            "[[  14.96   41.76 1024.07   73.17]\n",
            " [  25.18   62.96 1020.04   59.08]\n",
            " [   5.11   39.4  1012.16   92.14]\n",
            " ...\n",
            " [  31.32   74.33 1012.92   36.48]\n",
            " [  24.48   69.45 1013.86   62.39]\n",
            " [  21.6    62.52 1017.23   67.87]]\n"
          ],
          "name": "stdout"
        }
      ]
    },
    {
      "cell_type": "code",
      "metadata": {
        "colab": {
          "base_uri": "https://localhost:8080/"
        },
        "id": "gWbuyPNYXny9",
        "outputId": "1c839d0e-1e52-4826-ac03-f8976b20b741"
      },
      "source": [
        "print(y)"
      ],
      "execution_count": 22,
      "outputs": [
        {
          "output_type": "stream",
          "text": [
            "[463.26 444.37 488.56 ... 429.57 435.74 453.28]\n"
          ],
          "name": "stdout"
        }
      ]
    },
    {
      "cell_type": "code",
      "metadata": {
        "id": "S6CJ61QqXpVx"
      },
      "source": [
        "# reshape the values in y\r\n",
        "y = y.reshape(len(y), 1)"
      ],
      "execution_count": 23,
      "outputs": []
    },
    {
      "cell_type": "code",
      "metadata": {
        "id": "lNluVDGBXx-2"
      },
      "source": [
        "# split the dataset into training and testing sets\r\n",
        "from sklearn.model_selection import train_test_split\r\n",
        "X_train, X_test, y_train, y_test = train_test_split(X, y, test_size=0.2, random_state=0)"
      ],
      "execution_count": 24,
      "outputs": []
    },
    {
      "cell_type": "code",
      "metadata": {
        "colab": {
          "base_uri": "https://localhost:8080/"
        },
        "id": "5WLKPubUYGOX",
        "outputId": "45fc925a-a9a7-4225-cd97-0913d1693414"
      },
      "source": [
        "print(X_train)"
      ],
      "execution_count": 25,
      "outputs": [
        {
          "output_type": "stream",
          "text": [
            "[[  11.22   43.13 1017.24   80.9 ]\n",
            " [  13.67   54.3  1015.92   75.42]\n",
            " [  32.84   77.95 1014.68   45.8 ]\n",
            " ...\n",
            " [  16.81   38.52 1018.26   75.21]\n",
            " [  12.8    41.16 1022.43   86.19]\n",
            " [  32.32   67.9  1006.08   37.93]]\n"
          ],
          "name": "stdout"
        }
      ]
    },
    {
      "cell_type": "code",
      "metadata": {
        "colab": {
          "base_uri": "https://localhost:8080/"
        },
        "id": "iouiVSR3YH-d",
        "outputId": "ed7bb029-521a-4c75-d723-e72fb968438e"
      },
      "source": [
        "print(X_test)"
      ],
      "execution_count": 26,
      "outputs": [
        {
          "output_type": "stream",
          "text": [
            "[[  28.66   77.95 1009.56   69.07]\n",
            " [  17.48   49.39 1021.51   84.53]\n",
            " [  14.86   43.14 1019.21   99.14]\n",
            " ...\n",
            " [  12.24   44.92 1023.74   88.21]\n",
            " [  27.28   47.93 1003.46   59.22]\n",
            " [  17.28   39.99 1007.09   74.25]]\n"
          ],
          "name": "stdout"
        }
      ]
    },
    {
      "cell_type": "code",
      "metadata": {
        "colab": {
          "base_uri": "https://localhost:8080/"
        },
        "id": "cKku_Gg_YLZo",
        "outputId": "64fa33a0-4fe4-4427-ce62-608375713a6d"
      },
      "source": [
        "print(y_train)"
      ],
      "execution_count": 27,
      "outputs": [
        {
          "output_type": "stream",
          "text": [
            "[[473.93]\n",
            " [467.87]\n",
            " [431.97]\n",
            " ...\n",
            " [459.01]\n",
            " [462.72]\n",
            " [428.12]]\n"
          ],
          "name": "stdout"
        }
      ]
    },
    {
      "cell_type": "code",
      "metadata": {
        "colab": {
          "base_uri": "https://localhost:8080/"
        },
        "id": "u30i4uj2YN-k",
        "outputId": "d8e96e45-7215-491f-8ada-8416d9c75663"
      },
      "source": [
        "print(y_test)"
      ],
      "execution_count": 28,
      "outputs": [
        {
          "output_type": "stream",
          "text": [
            "[[431.23]\n",
            " [460.01]\n",
            " [461.14]\n",
            " ...\n",
            " [473.26]\n",
            " [438.  ]\n",
            " [463.28]]\n"
          ],
          "name": "stdout"
        }
      ]
    },
    {
      "cell_type": "code",
      "metadata": {
        "id": "cCu4EMu8YeC8"
      },
      "source": [
        "# In Support Vector Regression it is neccessary to implement Feature Scaling\r\n",
        "from sklearn.preprocessing import StandardScaler\r\n",
        "\r\n",
        "# create objects\r\n",
        "sc_X = StandardScaler()\r\n",
        "sc_y = StandardScaler()\r\n",
        "\r\n",
        "# fit the object to the training set and transform\r\n",
        "X_train = sc_X.fit_transform(X_train)\r\n",
        "y_train = sc_y.fit_transform(y_train)"
      ],
      "execution_count": 29,
      "outputs": []
    },
    {
      "cell_type": "code",
      "metadata": {
        "colab": {
          "base_uri": "https://localhost:8080/"
        },
        "id": "Q44G4CEDZQ64",
        "outputId": "8313d0c0-a434-4986-9299-5d44fdda427f"
      },
      "source": [
        "print(X_train)"
      ],
      "execution_count": 30,
      "outputs": [
        {
          "output_type": "stream",
          "text": [
            "[[-1.14 -0.89  0.67  0.52]\n",
            " [-0.81 -0.01  0.45  0.15]\n",
            " [ 1.77  1.85  0.24 -1.88]\n",
            " ...\n",
            " [-0.38 -1.25  0.85  0.13]\n",
            " [-0.92 -1.04  1.55  0.88]\n",
            " [ 1.7   1.06 -1.2  -2.42]]\n"
          ],
          "name": "stdout"
        }
      ]
    },
    {
      "cell_type": "code",
      "metadata": {
        "colab": {
          "base_uri": "https://localhost:8080/"
        },
        "id": "HWeJyuJEZTH2",
        "outputId": "0cff19d5-a9ab-4fa0-d2bd-f440df5ebac6"
      },
      "source": [
        "print(y_train)"
      ],
      "execution_count": 31,
      "outputs": [
        {
          "output_type": "stream",
          "text": [
            "[[ 1.15]\n",
            " [ 0.8 ]\n",
            " [-1.31]\n",
            " ...\n",
            " [ 0.28]\n",
            " [ 0.49]\n",
            " [-1.54]]\n"
          ],
          "name": "stdout"
        }
      ]
    },
    {
      "cell_type": "code",
      "metadata": {
        "colab": {
          "base_uri": "https://localhost:8080/"
        },
        "id": "NW_LWduqa6nW",
        "outputId": "8452539e-b317-4cce-886c-acfcb2e78c19"
      },
      "source": [
        "# applying the SVR model to the training set and training the model as well\r\n",
        "from sklearn.svm import SVR\r\n",
        "\r\n",
        "# create the object of the function\r\n",
        "regressor = SVR(kernel = 'rbf')\r\n",
        "\r\n",
        "# fitting the model\r\n",
        "regressor.fit(X_train, y_train)"
      ],
      "execution_count": 32,
      "outputs": [
        {
          "output_type": "stream",
          "text": [
            "/usr/local/lib/python3.6/dist-packages/sklearn/utils/validation.py:760: DataConversionWarning: A column-vector y was passed when a 1d array was expected. Please change the shape of y to (n_samples, ), for example using ravel().\n",
            "  y = column_or_1d(y, warn=True)\n"
          ],
          "name": "stderr"
        },
        {
          "output_type": "execute_result",
          "data": {
            "text/plain": [
              "SVR(C=1.0, cache_size=200, coef0=0.0, degree=3, epsilon=0.1, gamma='scale',\n",
              "    kernel='rbf', max_iter=-1, shrinking=True, tol=0.001, verbose=False)"
            ]
          },
          "metadata": {
            "tags": []
          },
          "execution_count": 32
        }
      ]
    },
    {
      "cell_type": "code",
      "metadata": {
        "colab": {
          "base_uri": "https://localhost:8080/"
        },
        "id": "R8PEJG55bVTx",
        "outputId": "4cceced3-8149-4218-d4a4-c0bf81a41f5b"
      },
      "source": [
        "# predicting the test set results and printing them alongside the actual test set values\r\n",
        "y_pred = sc_y.inverse_transform(regressor.predict(sc_X.transform(X_test)))\r\n",
        "np.set_printoptions(precision=2)\r\n",
        "print(np.concatenate((y_pred.reshape(len(y_pred),1), y_test.reshape(len(y_test),1)),1))"
      ],
      "execution_count": 33,
      "outputs": [
        {
          "output_type": "stream",
          "text": [
            "[[434.05 431.23]\n",
            " [457.94 460.01]\n",
            " [461.03 461.14]\n",
            " ...\n",
            " [470.6  473.26]\n",
            " [439.42 438.  ]\n",
            " [460.92 463.28]]\n"
          ],
          "name": "stdout"
        }
      ]
    },
    {
      "cell_type": "code",
      "metadata": {
        "colab": {
          "base_uri": "https://localhost:8080/"
        },
        "id": "944ozFW6b3wY",
        "outputId": "8a13bf42-0d72-44a8-cd30-fde5ac9e8e22"
      },
      "source": [
        "# Calculating the R^2 score to get the value.\r\n",
        "from sklearn.metrics import r2_score\r\n",
        "r2_score(y_test, y_pred)"
      ],
      "execution_count": 34,
      "outputs": [
        {
          "output_type": "execute_result",
          "data": {
            "text/plain": [
              "0.9480784049986258"
            ]
          },
          "metadata": {
            "tags": []
          },
          "execution_count": 34
        }
      ]
    }
  ]
}